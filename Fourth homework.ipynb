{
 "cells": [
  {
   "cell_type": "markdown",
   "metadata": {},
   "source": [
    "# Занятие 4. «Работа с датами в Python»\n",
    "\n",
    "## Задание 1"
   ]
  },
  {
   "cell_type": "code",
   "execution_count": 1,
   "metadata": {},
   "outputs": [
    {
     "data": {
      "text/plain": [
       "['2017-01-02',\n",
       " '2017-01-03',\n",
       " '2017-01-04',\n",
       " '2017-01-05',\n",
       " '2017-01-06',\n",
       " '2017-01-07',\n",
       " '2017-01-08',\n",
       " '2017-01-09',\n",
       " '2017-01-10',\n",
       " '2017-01-11',\n",
       " '2017-01-12',\n",
       " '2017-01-13',\n",
       " '2017-01-14',\n",
       " '2017-01-15',\n",
       " '2017-01-16',\n",
       " '2017-01-17',\n",
       " '2017-01-18',\n",
       " '2017-01-19',\n",
       " '2017-01-20',\n",
       " '2017-01-21',\n",
       " '2017-01-22',\n",
       " '2017-01-23',\n",
       " '2017-01-24',\n",
       " '2017-01-25',\n",
       " '2017-01-26',\n",
       " '2017-01-27',\n",
       " '2017-01-28',\n",
       " '2017-01-29',\n",
       " '2017-01-30',\n",
       " '2017-01-31',\n",
       " '2017-02-01']"
      ]
     },
     "execution_count": 1,
     "metadata": {},
     "output_type": "execute_result"
    }
   ],
   "source": [
    "import datetime\n",
    "from datetime import datetime as dt\n",
    "\n",
    "def date_range(start_date, end_date):\n",
    "    \n",
    "    dt_start_date = dt.strptime(start_date, '%Y-%m-%d')\n",
    "    dt_end_date = dt.strptime(end_date, '%Y-%m-%d')\n",
    "    \n",
    "    date_list = [(dt_start_date + datetime.timedelta(days=x)).strftime('%Y-%m-%d') \n",
    "                 for x in range(1, (dt_end_date-dt_start_date).days)]\n",
    "    \n",
    "    return(date_list)\n",
    "\n",
    "date_range('2017-01-01','2017-02-02')"
   ]
  },
  {
   "cell_type": "markdown",
   "metadata": {},
   "source": [
    "## Задание 2"
   ]
  },
  {
   "cell_type": "code",
   "execution_count": 2,
   "metadata": {},
   "outputs": [
    {
     "data": {
      "text/plain": [
       "[]"
      ]
     },
     "execution_count": 2,
     "metadata": {},
     "output_type": "execute_result"
    }
   ],
   "source": [
    "import datetime\n",
    "from datetime import datetime as dt\n",
    "\n",
    "def date_range(start_date, end_date):\n",
    "\n",
    "    try:\n",
    "        dt_start_date = dt.strptime(start_date, '%Y-%m-%d')\n",
    "        dt_end_date = dt.strptime(end_date, '%Y-%m-%d')\n",
    "        \n",
    "        if (dt_start_date > dt_end_date):\n",
    "            return([])\n",
    "    \n",
    "        date_list = [(dt_start_date + datetime.timedelta(days=x)).strftime('%Y-%m-%d') \n",
    "                     for x in range(1, (dt_end_date-dt_start_date).days)]\n",
    "    except:\n",
    "        return([])\n",
    "    \n",
    "    return(date_list)\n",
    "\n",
    "date_range('2017-01-','2017-01-02')"
   ]
  },
  {
   "cell_type": "markdown",
   "metadata": {},
   "source": [
    "## Задание 3"
   ]
  },
  {
   "cell_type": "code",
   "execution_count": 3,
   "metadata": {},
   "outputs": [
    {
     "data": {
      "text/plain": [
       "[True, False, False]"
      ]
     },
     "execution_count": 3,
     "metadata": {},
     "output_type": "execute_result"
    }
   ],
   "source": [
    "def check_data(input_data):\n",
    "    try:\n",
    "        dt.strptime(input_data, '%Y-%m-%d')\n",
    "    except:\n",
    "        return(False)\n",
    "    \n",
    "    return(True)\n",
    "\n",
    "stream = ['2018-04-02', '2018-02-29', '2018-19-02']\n",
    "\n",
    "list(map(check_data, stream))"
   ]
  },
  {
   "cell_type": "markdown",
   "metadata": {},
   "source": [
    "## Задание 4"
   ]
  },
  {
   "cell_type": "code",
   "execution_count": 4,
   "metadata": {},
   "outputs": [
    {
     "data": {
      "text/plain": [
       "['2019-06-01',\n",
       " '2019-06-02',\n",
       " '2019-06-03',\n",
       " '2019-06-04',\n",
       " '2019-06-05',\n",
       " '2019-06-06',\n",
       " '2019-06-07',\n",
       " '2019-06-08']"
      ]
     },
     "execution_count": 4,
     "metadata": {},
     "output_type": "execute_result"
    }
   ],
   "source": [
    "def return_dates():\n",
    "    current_datetime = dt.now()\n",
    "    first_datetime_month = current_datetime.replace(day = 1)\n",
    "    if current_datetime.day == 1:\n",
    "        if not (first_datetime_month.month == 1):\n",
    "              first_datetime_previous_month = first_datetime_month.replace(month=first_datetime_month.month-1)\n",
    "        else:  \n",
    "              first_datetime_previous_month = first_datetime_month.replace(year=first_datetime_month.year-1, month=12)\n",
    "                    \n",
    "        date_list = [(first_datetime_previous_month + datetime.timedelta(days = x)).strftime('%Y-%m-%d') \n",
    "                     for x in range(0, (first_datetime_month-first_datetime_previous_month).days)]\n",
    "        return(date_list)\n",
    "    else:\n",
    "        date_list = [(first_datetime_month + datetime.timedelta(days=x)).strftime('%Y-%m-%d') \n",
    "                     for x in range(0, (current_datetime-first_datetime_month).days)]\n",
    "        return(date_list)\n",
    "\n",
    "return_dates()"
   ]
  },
  {
   "cell_type": "markdown",
   "metadata": {},
   "source": []
  },
  {
   "cell_type": "code",
   "execution_count": null,
   "metadata": {},
   "outputs": [],
   "source": []
  },
  {
   "cell_type": "code",
   "execution_count": null,
   "metadata": {},
   "outputs": [],
   "source": []
  },
  {
   "cell_type": "code",
   "execution_count": null,
   "metadata": {},
   "outputs": [],
   "source": []
  }
 ],
 "metadata": {
  "kernelspec": {
   "display_name": "Python 3",
   "language": "python",
   "name": "python3"
  },
  "language_info": {
   "codemirror_mode": {
    "name": "ipython",
    "version": 3
   },
   "file_extension": ".py",
   "mimetype": "text/x-python",
   "name": "python",
   "nbconvert_exporter": "python",
   "pygments_lexer": "ipython3",
   "version": "3.7.3"
  }
 },
 "nbformat": 4,
 "nbformat_minor": 2
}
