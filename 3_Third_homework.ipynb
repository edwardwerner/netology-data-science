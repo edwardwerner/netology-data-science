{
 "cells": [
  {
   "cell_type": "markdown",
   "metadata": {},
   "source": [
    "# Занятие 3. «Функции — использование встроенных и создание собственных»\n",
    "## Задание 1"
   ]
  },
  {
   "cell_type": "code",
   "execution_count": 1,
   "metadata": {},
   "outputs": [
    {
     "data": {
      "text/plain": [
       "103"
      ]
     },
     "execution_count": 1,
     "metadata": {},
     "output_type": "execute_result"
    }
   ],
   "source": [
    "def diag_sum(data_list):\n",
    "    diag_sum_value = 0\n",
    "    for i in range (len(data_list)):\n",
    "        diag_sum_value += data_list[i][i]\n",
    "    return(diag_sum_value)\n",
    "\n",
    "data = [\n",
    "[13, 25, 23, 34],\n",
    "[45, 32, 44, 47],\n",
    "[12, 33, 23, 95],\n",
    "[13, 53, 34, 35],\n",
    "]\n",
    "\n",
    "diag_sum(data)"
   ]
  },
  {
   "cell_type": "markdown",
   "metadata": {},
   "source": [
    "## Задание 2"
   ]
  },
  {
   "cell_type": "code",
   "execution_count": 10,
   "metadata": {},
   "outputs": [
    {
     "data": {
      "text/plain": [
       "430"
      ]
     },
     "execution_count": 10,
     "metadata": {},
     "output_type": "execute_result"
    }
   ],
   "source": [
    "def sq_sum(data_list):\n",
    "    sq_sum_value = 0\n",
    "    for value in data_list:\n",
    "        try:\n",
    "            sq_sum_value += (int(value) ** 2)\n",
    "        except ValueError:\n",
    "            pass\n",
    "    return(sq_sum_value)\n",
    "    \n",
    "\n",
    "data = [1, '5', 'abc', 20, '2']\n",
    "sq_sum(data)"
   ]
  },
  {
   "cell_type": "markdown",
   "metadata": {},
   "source": [
    "## Задание 3"
   ]
  },
  {
   "cell_type": "code",
   "execution_count": 3,
   "metadata": {},
   "outputs": [
    {
     "data": {
      "text/plain": [
       "'СДР (специальные права заимствования)'"
      ]
     },
     "execution_count": 3,
     "metadata": {},
     "output_type": "execute_result"
    }
   ],
   "source": [
    "import requests\n",
    "\n",
    "def name_max_course():\n",
    "        r = requests.get('https://www.cbr-xml-daily.ru/daily_json.js')\n",
    "        curr_name = ''\n",
    "        curr_rate = 0\n",
    "        for currency in r.json()['Valute'].values():\n",
    "            if curr_rate < currency['Value'] / currency['Nominal']: # если приводить к стоимости одной единицы\n",
    "                curr_name = currency['Name']\n",
    "                curr_rate = currency['Value'] / currency['Nominal']\n",
    "        return (curr_name)\n",
    "    \n",
    "name_max_course()"
   ]
  },
  {
   "cell_type": "markdown",
   "metadata": {},
   "source": [
    "## Задание 4"
   ]
  },
  {
   "cell_type": "code",
   "execution_count": 6,
   "metadata": {},
   "outputs": [
    {
     "name": "stdout",
     "output_type": "stream",
     "text": [
      "Евро\n",
      "0.3744000000000085\n",
      "65.5547\n"
     ]
    }
   ],
   "source": [
    "class Rate:\n",
    "    def __init__(self, format='value', diff=False):\n",
    "        self.format = format\n",
    "        self.diff = diff\n",
    "    \n",
    "    def exchange_rates(self):\n",
    "        r = requests.get('https://www.cbr-xml-daily.ru/daily_json.js')\n",
    "        return r.json()['Valute']\n",
    "    \n",
    "    def make_format(self, currency):\n",
    "        response = self.exchange_rates()\n",
    "        \n",
    "        if currency in response:\n",
    "            if self.format == 'full':\n",
    "                return response[currency]\n",
    "            \n",
    "            if self.format == 'value':\n",
    "                return response[currency]['Value']\n",
    "        \n",
    "        return 'Error'\n",
    "    \n",
    "    def make_format_name(self, currency):\n",
    "        response = self.exchange_rates()\n",
    "        if currency in response:\n",
    "            return response[currency]['Name']\n",
    "    \n",
    "    def eur(self):\n",
    "        if (self.diff):\n",
    "            response = self.exchange_rates()\n",
    "            if 'EUR' in response:\n",
    "                return response['EUR']['Value'] - response['EUR']['Previous']\n",
    "            return self.make_format('EUR')\n",
    "    \n",
    "    def usd(self):\n",
    "        if (self.diff):\n",
    "            response = self.exchange_rates()\n",
    "            if 'USD' in response:\n",
    "                return response['USD']['Value'] - response['USD']['Previous']\n",
    "            \n",
    "        return self.make_format('USD')\n",
    "    \n",
    "print(Rate().make_format_name('EUR'))\n",
    "print(Rate(diff=True).eur())\n",
    "print(Rate(diff=False).usd())"
   ]
  },
  {
   "cell_type": "markdown",
   "metadata": {},
   "source": [
    "## Задание 5"
   ]
  },
  {
   "cell_type": "code",
   "execution_count": 8,
   "metadata": {},
   "outputs": [
    {
     "data": {
      "text/plain": [
       "12"
      ]
     },
     "execution_count": 8,
     "metadata": {},
     "output_type": "execute_result"
    }
   ],
   "source": [
    "def fibonacci(n):\n",
    "    prev_value = 0\n",
    "    value = 1\n",
    "    if n == 0:\n",
    "        return 0\n",
    "    for _ in range(n+1):\n",
    "        temp_value = value\n",
    "        value += prev_value\n",
    "        prev_value = temp_value\n",
    "    return(value - 1)\n",
    "\n",
    "fibonacci(5)"
   ]
  },
  {
   "cell_type": "markdown",
   "metadata": {},
   "source": [
    "## Задание 6"
   ]
  },
  {
   "cell_type": "code",
   "execution_count": 9,
   "metadata": {},
   "outputs": [
    {
     "data": {
      "text/plain": [
       "{'2018-01-01': {'yandex': {'cpc': 100}}}"
      ]
     },
     "execution_count": 9,
     "metadata": {},
     "output_type": "execute_result"
    }
   ],
   "source": [
    "def convert_to_dictionary(input_list):\n",
    "    final_dict = {}\n",
    "    if len(input_list) == 1:\n",
    "        return input_list[0]\n",
    "    final_dict[input_list[0]] = convert_to_dictionary(input_list[1:])\n",
    "    return(final_dict)\n",
    "    \n",
    "convert_to_dictionary(['2018-01-01', 'yandex', 'cpc', 100])"
   ]
  },
  {
   "cell_type": "code",
   "execution_count": null,
   "metadata": {},
   "outputs": [],
   "source": []
  }
 ],
 "metadata": {
  "kernelspec": {
   "display_name": "Python 3",
   "language": "python",
   "name": "python3"
  },
  "language_info": {
   "codemirror_mode": {
    "name": "ipython",
    "version": 3
   },
   "file_extension": ".py",
   "mimetype": "text/x-python",
   "name": "python",
   "nbconvert_exporter": "python",
   "pygments_lexer": "ipython3",
   "version": "3.7.3"
  }
 },
 "nbformat": 4,
 "nbformat_minor": 2
}
